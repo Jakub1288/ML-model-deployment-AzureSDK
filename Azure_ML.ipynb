{
 "cells": [
  {
   "cell_type": "code",
   "execution_count": 1,
   "id": "ad7e0fcc-deab-4537-a797-f6de66a1375c",
   "metadata": {},
   "outputs": [],
   "source": [
    "import azure.core\n",
    "from azure.ai.ml.entities import AmlCompute\n",
    "from azure.ai.ml import MLClient\n",
    "from azure.identity import DefaultAzureCredential, InteractiveBrowserCredential, ClientSecretCredential\n",
    "import os\n",
    "\n"
   ]
  },
  {
   "cell_type": "code",
   "execution_count": 2,
   "id": "9f7b3fd1-9bca-4961-ab40-e062424a0241",
   "metadata": {},
   "outputs": [],
   "source": [
    "subscription_id=os.getenv('SUBSCRIPTION_ID')\n",
    "resource_group_name=os.getenv('RESOURCE_GROUP_NAME')\n",
    "workspace_name=os.getenv('WORKSPACE_NAME')"
   ]
  },
  {
   "cell_type": "code",
   "execution_count": 5,
   "id": "eb68f9df-3464-4a62-a6f0-275c118b516b",
   "metadata": {},
   "outputs": [],
   "source": [
    "client_id=os.getenv('AZURE_CLIENT_ID')\n",
    "client_secret=os.getenv('AZURE_CLIENT_SECRET')\n",
    "tenant_id=os.getenv('AZURE_TENANT_ID')"
   ]
  },
  {
   "cell_type": "code",
   "execution_count": 6,
   "id": "202f2962-3488-4f5f-b0bb-03d4efd256ee",
   "metadata": {},
   "outputs": [],
   "source": [
    "credentials=ClientSecretCredential(client_id=client_id, client_secret=client_secret, tenant_id=tenant_id)"
   ]
  },
  {
   "cell_type": "code",
   "execution_count": 7,
   "id": "0b150ef1-e8b1-4c04-8e21-026af56e8f25",
   "metadata": {},
   "outputs": [],
   "source": [
    "from azure.ai.ml.entities import Workspace\n",
    "\n",
    "\n",
    "ml_client = MLClient(\n",
    "    DefaultAzureCredential(),\n",
    "    subscription_id,\n",
    "    resource_group_name,\n",
    "    workspace_name\n",
    ")\n"
   ]
  },
  {
   "cell_type": "code",
   "execution_count": 14,
   "id": "8e6caf6a-f135-4523-830f-5a6371238bf6",
   "metadata": {},
   "outputs": [
    {
     "name": "stdout",
     "output_type": "stream",
     "text": [
      "This Compute Target: cpu-cluster00 already exists, we will reuse it\n"
     ]
    }
   ],
   "source": [
    "#Cluster name and creat it - if not exists\n",
    "cpu_compute_target_name = \"cpu-cluster00\"\n",
    "\n",
    "try:\n",
    "    \n",
    "    cpu_compute_target = ml_client.compute.get(cpu_compute_target_name)\n",
    "    print(f\"This Compute Target: {cpu_compute_target_name} already exists, we will reuse it\")\n",
    "except Exception:\n",
    "    print(f\"Creating a new compute target: {cpu_compute_target_name}\")\n",
    "    \n",
    "    cpu_cluster= AmlCompute(\n",
    "       name=\"cpu-cluster00\",\n",
    "       type=\"amlcompute\",\n",
    "       size=\"STANDARD_DS3_V2\",\n",
    "       min_instances=0,\n",
    "       max_instances=1,\n",
    "       idle_time_before_scale_down=240,\n",
    "       location=\"East US\")\n",
    "    cpu_cluster=ml_client.begin_create_or_update(cpu_cluster)\n",
    " \n",
    "   \n",
    "       "
   ]
  },
  {
   "cell_type": "code",
   "execution_count": 9,
   "id": "bcc693db-19bc-4c14-ae12-a9be0811bcd7",
   "metadata": {},
   "outputs": [],
   "source": [
    "from azure.ai.ml.entities import Model\n",
    "from azure.ai.ml.constants import AssetTypes\n",
    "from azure.ai.ml.entities import Environment"
   ]
  },
  {
   "cell_type": "code",
   "execution_count": 33,
   "id": "72ad0872-1185-4a5b-b2ad-65da03d6ef1c",
   "metadata": {},
   "outputs": [
    {
     "name": "stderr",
     "output_type": "stream",
     "text": [
      "\u001b[32mUploading best_knn_model.pkl\u001b[32m (< 1 MB): 100%|###########################| 3.77M/3.77M [00:11<00:00, 339kB/s]\u001b[0m\n",
      "\u001b[39m\n",
      "\n"
     ]
    },
    {
     "data": {
      "text/plain": [
       "Model({'job_name': None, 'intellectual_property': None, 'is_anonymous': False, 'auto_increment_version': False, 'auto_delete_setting': None, 'name': 'Attrition_knn_model', 'description': 'Model created from local jupyter lab.', 'tags': {}, 'properties': {}, 'print_as_yaml': True, 'id': '/subscriptions/7c109b04-bd25-4d9a-9983-ddd90b981639/resourceGroups/ML_Attrition_Deployment/providers/Microsoft.MachineLearningServices/workspaces/Attrition_Deployment/models/Attrition_knn_model/versions/2', 'Resource__source_path': None, 'base_path': 'C:\\\\Users\\\\jakub\\\\Desktop\\\\programovani\\\\Attrition_Analysis', 'creation_context': <azure.ai.ml.entities._system_data.SystemData object at 0x0000010CFC35B9D0>, 'serialize': <msrest.serialization.Serializer object at 0x0000010CFC25E010>, 'version': '2', 'latest_version': None, 'path': 'azureml://subscriptions/7c109b04-bd25-4d9a-9983-ddd90b981639/resourceGroups/ML_Attrition_Deployment/workspaces/Attrition_Deployment/datastores/workspaceblobstore/paths/LocalUpload/f81da1ce704ff7be199dd26a1e8d9154/best_knn_model.pkl', 'datastore': None, 'utc_time_created': None, 'flavors': None, 'arm_type': 'model_version', 'type': 'custom_model', 'stage': 'Development'})"
      ]
     },
     "execution_count": 33,
     "metadata": {},
     "output_type": "execute_result"
    }
   ],
   "source": [
    "file_model = Model(\n",
    "    path=\"best_knn_model.pkl\",\n",
    "    type=AssetTypes.CUSTOM_MODEL,\n",
    "    name=\"Attrition_knn_model\",\n",
    "    description=\"Model created from local jupyter lab.\",\n",
    ")\n",
    "ml_client.models.create_or_update(file_model)"
   ]
  },
  {
   "cell_type": "code",
   "execution_count": 10,
   "id": "a9adad9b-5790-4857-8127-490c219e97d0",
   "metadata": {},
   "outputs": [
    {
     "name": "stdout",
     "output_type": "stream",
     "text": [
      "Attrition_knn_model\n"
     ]
    }
   ],
   "source": [
    "models = ml_client.models.list()\n",
    "for model in models:\n",
    "    print(model.name)"
   ]
  },
  {
   "cell_type": "code",
   "execution_count": 10,
   "id": "64680fd9-43dc-49a7-ab04-e92c440e835f",
   "metadata": {},
   "outputs": [
    {
     "name": "stdout",
     "output_type": "stream",
     "text": [
      "Environment with name attrit_env is registered to workspace, the environment version is 0.1.1\n"
     ]
    }
   ],
   "source": [
    "custom_env_name = \"attrit_env\"\n",
    "\n",
    "pipeline_job_env = Environment(\n",
    "    name=custom_env_name,\n",
    "    description=\"Custom environment for Attrition classif pipeline\",\n",
    "    conda_file=\"envir.yml\",\n",
    "    image=\"mcr.microsoft.com/azureml/openmpi4.1.0-ubuntu20.04:latest\",\n",
    "    version=\"0.1.1\",\n",
    ")\n",
    "pipeline_job_env = ml_client.environments.create_or_update(pipeline_job_env)\n",
    "\n",
    "print(\n",
    "    f\"Environment with name {pipeline_job_env.name} is registered to workspace, the environment version is {pipeline_job_env.version}\"\n",
    ")"
   ]
  },
  {
   "cell_type": "markdown",
   "id": "e71ac08f-acc9-45f2-b6bc-58ff1cb1ce6b",
   "metadata": {},
   "source": [
    "### Create a score.py for evaluate new instances"
   ]
  },
  {
   "cell_type": "code",
   "execution_count": 12,
   "id": "75b62d7b-b657-4879-b1b6-cb6567cdf391",
   "metadata": {},
   "outputs": [
    {
     "name": "stdout",
     "output_type": "stream",
     "text": [
      "Writing score.py\n"
     ]
    }
   ],
   "source": [
    "%%writefile score.py\n",
    "def init():\n",
    "    global model, preprocessor\n",
    "    model_path = Model.get_model_path(model_name='best_knn_model')  \n",
    "    model = joblib.load(model_path)\n",
    "    preprocessor = joblib.load('preprocessor.pkl')  \n",
    "\n",
    "# Perform scoring using the loaded model and preprocessor\n",
    "def run(raw_data):\n",
    "    try:\n",
    "        data = json.loads(raw_data)\n",
    "       \n",
    "\n",
    "        # Extract features from the input data\n",
    "        features = data['features']\n",
    "\n",
    "        # Apply the preprocessing pipeline to the input data\n",
    "        preprocessed_data = preprocessor.transform(features)\n",
    "\n",
    "        # Use the loaded model for predictions\n",
    "        predictions = model.predict(preprocessed_data)\n",
    "\n",
    "        # Return the predictions as a JSON object\n",
    "        return json.dumps({\"predictions\": predictions.tolist()})\n",
    "    except Exception as e:\n",
    "        error = str(e)\n",
    "        return json.dumps({\"error\": error})"
   ]
  },
  {
   "cell_type": "code",
   "execution_count": null,
   "id": "3986a087-3a35-4c03-8db5-d927fdb91f5f",
   "metadata": {},
   "outputs": [],
   "source": []
  }
 ],
 "metadata": {
  "kernelspec": {
   "display_name": "Python 3 (ipykernel)",
   "language": "python",
   "name": "python3"
  },
  "language_info": {
   "codemirror_mode": {
    "name": "ipython",
    "version": 3
   },
   "file_extension": ".py",
   "mimetype": "text/x-python",
   "name": "python",
   "nbconvert_exporter": "python",
   "pygments_lexer": "ipython3",
   "version": "3.11.4"
  }
 },
 "nbformat": 4,
 "nbformat_minor": 5
}
